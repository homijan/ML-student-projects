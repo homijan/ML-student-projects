{
 "cells": [
  {
   "cell_type": "code",
   "execution_count": 1,
   "id": "1d50720c",
   "metadata": {},
   "outputs": [
    {
     "name": "stderr",
     "output_type": "stream",
     "text": [
      "/usr/workspace/mlmfem/anaconda3/envs/ptl_env/lib/python3.10/site-packages/tqdm/auto.py:22: TqdmWarning: IProgress not found. Please update jupyter and ipywidgets. See https://ipywidgets.readthedocs.io/en/stable/user_install.html\n",
      "  from .autonotebook import tqdm as notebook_tqdm\n"
     ]
    }
   ],
   "source": [
    "import pandas as pd\n",
    "from torch.utils.data import DataLoader\n",
    "#from pytorch_lightning.profiler import Profiler, AdvancedProfiler\n",
    "import HeatfluxData as hfd\n",
    "import HeatfluxModel as hfm"
   ]
  },
  {
   "cell_type": "code",
   "execution_count": 2,
   "id": "606f7cbc",
   "metadata": {},
   "outputs": [],
   "source": [
    "filename_data = f'../students/bogdaale/NN-examples/scaled_QdataKn22width100microns.csv'\n",
    "# Using heat flux data module\n",
    "scaled_Qdata = pd.read_csv(filename_data, header=0, index_col=0)\n",
    "test_set, train_set, validation_set, vis_set = hfd.heat_flux_datasets(scaled_Qdata, 0.3, 0.8)"
   ]
  },
  {
   "cell_type": "code",
   "execution_count": null,
   "id": "b41fb428",
   "metadata": {},
   "outputs": [],
   "source": []
  }
 ],
 "metadata": {
  "kernelspec": {
   "display_name": "Python [conda env:ptl_env]",
   "language": "python",
   "name": "conda-env-ptl_env-py"
  },
  "language_info": {
   "codemirror_mode": {
    "name": "ipython",
    "version": 3
   },
   "file_extension": ".py",
   "mimetype": "text/x-python",
   "name": "python",
   "nbconvert_exporter": "python",
   "pygments_lexer": "ipython3",
   "version": "3.10.8"
  }
 },
 "nbformat": 4,
 "nbformat_minor": 5
}
