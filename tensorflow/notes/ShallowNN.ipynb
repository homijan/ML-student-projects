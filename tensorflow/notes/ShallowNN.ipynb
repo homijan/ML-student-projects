{
 "cells": [
  {
   "cell_type": "code",
   "execution_count": 1,
   "metadata": {},
   "outputs": [],
   "source": [
    "import tensorflow as tf\n",
    "import pandas as pd"
   ]
  },
  {
   "cell_type": "code",
   "execution_count": 2,
   "metadata": {},
   "outputs": [],
   "source": [
    "df = pd.read_csv(\"https://raw.githubusercontent.com/fenago/datasets/main/Bias_correction_ucl.csv\")"
   ]
  },
  {
   "cell_type": "code",
   "execution_count": 6,
   "metadata": {},
   "outputs": [
    {
     "data": {
      "text/html": [
       "<div>\n",
       "<style scoped>\n",
       "    .dataframe tbody tr th:only-of-type {\n",
       "        vertical-align: middle;\n",
       "    }\n",
       "\n",
       "    .dataframe tbody tr th {\n",
       "        vertical-align: top;\n",
       "    }\n",
       "\n",
       "    .dataframe thead th {\n",
       "        text-align: right;\n",
       "    }\n",
       "</style>\n",
       "<table border=\"1\" class=\"dataframe\">\n",
       "  <thead>\n",
       "    <tr style=\"text-align: right;\">\n",
       "      <th></th>\n",
       "      <th>station</th>\n",
       "      <th>Present_Tmax</th>\n",
       "      <th>Present_Tmin</th>\n",
       "      <th>LDAPS_RHmin</th>\n",
       "      <th>LDAPS_RHmax</th>\n",
       "      <th>LDAPS_Tmax_lapse</th>\n",
       "      <th>LDAPS_Tmin_lapse</th>\n",
       "      <th>LDAPS_WS</th>\n",
       "      <th>LDAPS_LH</th>\n",
       "      <th>LDAPS_CC1</th>\n",
       "      <th>...</th>\n",
       "      <th>LDAPS_PPT2</th>\n",
       "      <th>LDAPS_PPT3</th>\n",
       "      <th>LDAPS_PPT4</th>\n",
       "      <th>lat</th>\n",
       "      <th>lon</th>\n",
       "      <th>DEM</th>\n",
       "      <th>Slope</th>\n",
       "      <th>Solar radiation</th>\n",
       "      <th>Next_Tmax</th>\n",
       "      <th>Next_Tmin</th>\n",
       "    </tr>\n",
       "  </thead>\n",
       "  <tbody>\n",
       "    <tr>\n",
       "      <th>590</th>\n",
       "      <td>16.0</td>\n",
       "      <td>26.4</td>\n",
       "      <td>24.3</td>\n",
       "      <td>67.874313</td>\n",
       "      <td>96.791023</td>\n",
       "      <td>27.404923</td>\n",
       "      <td>22.926537</td>\n",
       "      <td>12.462894</td>\n",
       "      <td>91.130902</td>\n",
       "      <td>0.620191</td>\n",
       "      <td>...</td>\n",
       "      <td>1.235356</td>\n",
       "      <td>0.0</td>\n",
       "      <td>0.0</td>\n",
       "      <td>37.4697</td>\n",
       "      <td>126.995</td>\n",
       "      <td>82.2912</td>\n",
       "      <td>2.2579</td>\n",
       "      <td>5575.939453</td>\n",
       "      <td>28.2</td>\n",
       "      <td>22.0</td>\n",
       "    </tr>\n",
       "    <tr>\n",
       "      <th>1277</th>\n",
       "      <td>3.0</td>\n",
       "      <td>32.0</td>\n",
       "      <td>23.2</td>\n",
       "      <td>39.381092</td>\n",
       "      <td>75.439720</td>\n",
       "      <td>34.711694</td>\n",
       "      <td>24.901418</td>\n",
       "      <td>6.532692</td>\n",
       "      <td>12.430460</td>\n",
       "      <td>0.152634</td>\n",
       "      <td>...</td>\n",
       "      <td>0.000000</td>\n",
       "      <td>0.0</td>\n",
       "      <td>0.0</td>\n",
       "      <td>37.5776</td>\n",
       "      <td>127.058</td>\n",
       "      <td>33.3068</td>\n",
       "      <td>0.2661</td>\n",
       "      <td>4833.543945</td>\n",
       "      <td>32.8</td>\n",
       "      <td>24.3</td>\n",
       "    </tr>\n",
       "  </tbody>\n",
       "</table>\n",
       "<p>2 rows × 24 columns</p>\n",
       "</div>"
      ],
      "text/plain": [
       "      station  Present_Tmax  Present_Tmin  LDAPS_RHmin  LDAPS_RHmax  \\\n",
       "590      16.0          26.4          24.3    67.874313    96.791023   \n",
       "1277      3.0          32.0          23.2    39.381092    75.439720   \n",
       "\n",
       "      LDAPS_Tmax_lapse  LDAPS_Tmin_lapse   LDAPS_WS   LDAPS_LH  LDAPS_CC1  \\\n",
       "590          27.404923         22.926537  12.462894  91.130902   0.620191   \n",
       "1277         34.711694         24.901418   6.532692  12.430460   0.152634   \n",
       "\n",
       "      ...  LDAPS_PPT2  LDAPS_PPT3  LDAPS_PPT4      lat      lon      DEM  \\\n",
       "590   ...    1.235356         0.0         0.0  37.4697  126.995  82.2912   \n",
       "1277  ...    0.000000         0.0         0.0  37.5776  127.058  33.3068   \n",
       "\n",
       "       Slope  Solar radiation  Next_Tmax  Next_Tmin  \n",
       "590   2.2579      5575.939453       28.2       22.0  \n",
       "1277  0.2661      4833.543945       32.8       24.3  \n",
       "\n",
       "[2 rows x 24 columns]"
      ]
     },
     "execution_count": 6,
     "metadata": {},
     "output_type": "execute_result"
    }
   ],
   "source": [
    "df.sample(2)"
   ]
  },
  {
   "cell_type": "code",
   "execution_count": 4,
   "metadata": {},
   "outputs": [],
   "source": [
    "df.drop('Date', inplace=True, axis=1)\n",
    "df.dropna(inplace=True)"
   ]
  },
  {
   "cell_type": "code",
   "execution_count": 5,
   "metadata": {},
   "outputs": [
    {
     "data": {
      "text/plain": [
       "station             float64\n",
       "Present_Tmax        float64\n",
       "Present_Tmin        float64\n",
       "LDAPS_RHmin         float64\n",
       "LDAPS_RHmax         float64\n",
       "LDAPS_Tmax_lapse    float64\n",
       "LDAPS_Tmin_lapse    float64\n",
       "LDAPS_WS            float64\n",
       "LDAPS_LH            float64\n",
       "LDAPS_CC1           float64\n",
       "LDAPS_CC2           float64\n",
       "LDAPS_CC3           float64\n",
       "LDAPS_CC4           float64\n",
       "LDAPS_PPT1          float64\n",
       "LDAPS_PPT2          float64\n",
       "LDAPS_PPT3          float64\n",
       "LDAPS_PPT4          float64\n",
       "lat                 float64\n",
       "lon                 float64\n",
       "DEM                 float64\n",
       "Slope               float64\n",
       "Solar radiation     float64\n",
       "Next_Tmax           float64\n",
       "Next_Tmin           float64\n",
       "dtype: object"
      ]
     },
     "execution_count": 5,
     "metadata": {},
     "output_type": "execute_result"
    }
   ],
   "source": [
    "df.dtypes"
   ]
  },
  {
   "cell_type": "code",
   "execution_count": 7,
   "metadata": {},
   "outputs": [],
   "source": [
    "target = df[['Next_Tmax', 'Next_Tmin']]\n",
    "features = df.drop(['Next_Tmax', 'Next_Tmin'], axis=1)"
   ]
  },
  {
   "cell_type": "code",
   "execution_count": 8,
   "metadata": {},
   "outputs": [],
   "source": [
    "from sklearn.preprocessing import MinMaxScaler\n",
    "scaler = MinMaxScaler()\n",
    "feature_array = scaler.fit_transform(features)\n",
    "features = pd.DataFrame(feature_array, columns=features.columns)"
   ]
  },
  {
   "cell_type": "code",
   "execution_count": 9,
   "metadata": {},
   "outputs": [
    {
     "data": {
      "text/html": [
       "<div>\n",
       "<style scoped>\n",
       "    .dataframe tbody tr th:only-of-type {\n",
       "        vertical-align: middle;\n",
       "    }\n",
       "\n",
       "    .dataframe tbody tr th {\n",
       "        vertical-align: top;\n",
       "    }\n",
       "\n",
       "    .dataframe thead th {\n",
       "        text-align: right;\n",
       "    }\n",
       "</style>\n",
       "<table border=\"1\" class=\"dataframe\">\n",
       "  <thead>\n",
       "    <tr style=\"text-align: right;\">\n",
       "      <th></th>\n",
       "      <th>station</th>\n",
       "      <th>Present_Tmax</th>\n",
       "      <th>Present_Tmin</th>\n",
       "      <th>LDAPS_RHmin</th>\n",
       "      <th>LDAPS_RHmax</th>\n",
       "      <th>LDAPS_Tmax_lapse</th>\n",
       "      <th>LDAPS_Tmin_lapse</th>\n",
       "      <th>LDAPS_WS</th>\n",
       "      <th>LDAPS_LH</th>\n",
       "      <th>LDAPS_CC1</th>\n",
       "      <th>...</th>\n",
       "      <th>LDAPS_CC4</th>\n",
       "      <th>LDAPS_PPT1</th>\n",
       "      <th>LDAPS_PPT2</th>\n",
       "      <th>LDAPS_PPT3</th>\n",
       "      <th>LDAPS_PPT4</th>\n",
       "      <th>lat</th>\n",
       "      <th>lon</th>\n",
       "      <th>DEM</th>\n",
       "      <th>Slope</th>\n",
       "      <th>Solar radiation</th>\n",
       "    </tr>\n",
       "  </thead>\n",
       "  <tbody>\n",
       "    <tr>\n",
       "      <th>283</th>\n",
       "      <td>0.416667</td>\n",
       "      <td>0.335227</td>\n",
       "      <td>0.709677</td>\n",
       "      <td>0.817844</td>\n",
       "      <td>0.868221</td>\n",
       "      <td>0.376193</td>\n",
       "      <td>0.581919</td>\n",
       "      <td>0.268928</td>\n",
       "      <td>0.249612</td>\n",
       "      <td>0.868286</td>\n",
       "      <td>...</td>\n",
       "      <td>0.922873</td>\n",
       "      <td>0.001680</td>\n",
       "      <td>0.110920</td>\n",
       "      <td>0.265996</td>\n",
       "      <td>0.052229</td>\n",
       "      <td>0.429025</td>\n",
       "      <td>0.838188</td>\n",
       "      <td>0.081664</td>\n",
       "      <td>0.103313</td>\n",
       "      <td>0.868146</td>\n",
       "    </tr>\n",
       "    <tr>\n",
       "      <th>2768</th>\n",
       "      <td>0.416667</td>\n",
       "      <td>0.215909</td>\n",
       "      <td>0.483871</td>\n",
       "      <td>0.401006</td>\n",
       "      <td>0.824690</td>\n",
       "      <td>0.549085</td>\n",
       "      <td>0.499525</td>\n",
       "      <td>0.057489</td>\n",
       "      <td>0.236813</td>\n",
       "      <td>0.385140</td>\n",
       "      <td>...</td>\n",
       "      <td>0.608175</td>\n",
       "      <td>0.000133</td>\n",
       "      <td>0.000000</td>\n",
       "      <td>0.000000</td>\n",
       "      <td>0.000000</td>\n",
       "      <td>0.429025</td>\n",
       "      <td>0.838188</td>\n",
       "      <td>0.081664</td>\n",
       "      <td>0.103313</td>\n",
       "      <td>0.327631</td>\n",
       "    </tr>\n",
       "    <tr>\n",
       "      <th>4890</th>\n",
       "      <td>0.041667</td>\n",
       "      <td>0.590909</td>\n",
       "      <td>0.612903</td>\n",
       "      <td>0.440379</td>\n",
       "      <td>0.846889</td>\n",
       "      <td>0.559389</td>\n",
       "      <td>0.571153</td>\n",
       "      <td>0.134253</td>\n",
       "      <td>0.312821</td>\n",
       "      <td>0.513373</td>\n",
       "      <td>...</td>\n",
       "      <td>0.409941</td>\n",
       "      <td>0.000370</td>\n",
       "      <td>0.000000</td>\n",
       "      <td>0.000000</td>\n",
       "      <td>0.000000</td>\n",
       "      <td>0.786017</td>\n",
       "      <td>0.666667</td>\n",
       "      <td>0.161990</td>\n",
       "      <td>0.081816</td>\n",
       "      <td>0.856329</td>\n",
       "    </tr>\n",
       "    <tr>\n",
       "      <th>4741</th>\n",
       "      <td>0.083333</td>\n",
       "      <td>0.403409</td>\n",
       "      <td>0.467742</td>\n",
       "      <td>0.452254</td>\n",
       "      <td>0.680443</td>\n",
       "      <td>0.481718</td>\n",
       "      <td>0.515963</td>\n",
       "      <td>0.079469</td>\n",
       "      <td>0.099890</td>\n",
       "      <td>0.622002</td>\n",
       "      <td>...</td>\n",
       "      <td>0.364830</td>\n",
       "      <td>0.000000</td>\n",
       "      <td>0.000018</td>\n",
       "      <td>0.000000</td>\n",
       "      <td>0.000000</td>\n",
       "      <td>0.643008</td>\n",
       "      <td>0.750809</td>\n",
       "      <td>0.104702</td>\n",
       "      <td>0.032994</td>\n",
       "      <td>0.892347</td>\n",
       "    </tr>\n",
       "  </tbody>\n",
       "</table>\n",
       "<p>4 rows × 22 columns</p>\n",
       "</div>"
      ],
      "text/plain": [
       "       station  Present_Tmax  Present_Tmin  LDAPS_RHmin  LDAPS_RHmax  \\\n",
       "283   0.416667      0.335227      0.709677     0.817844     0.868221   \n",
       "2768  0.416667      0.215909      0.483871     0.401006     0.824690   \n",
       "4890  0.041667      0.590909      0.612903     0.440379     0.846889   \n",
       "4741  0.083333      0.403409      0.467742     0.452254     0.680443   \n",
       "\n",
       "      LDAPS_Tmax_lapse  LDAPS_Tmin_lapse  LDAPS_WS  LDAPS_LH  LDAPS_CC1  ...  \\\n",
       "283           0.376193          0.581919  0.268928  0.249612   0.868286  ...   \n",
       "2768          0.549085          0.499525  0.057489  0.236813   0.385140  ...   \n",
       "4890          0.559389          0.571153  0.134253  0.312821   0.513373  ...   \n",
       "4741          0.481718          0.515963  0.079469  0.099890   0.622002  ...   \n",
       "\n",
       "      LDAPS_CC4  LDAPS_PPT1  LDAPS_PPT2  LDAPS_PPT3  LDAPS_PPT4       lat  \\\n",
       "283    0.922873    0.001680    0.110920    0.265996    0.052229  0.429025   \n",
       "2768   0.608175    0.000133    0.000000    0.000000    0.000000  0.429025   \n",
       "4890   0.409941    0.000370    0.000000    0.000000    0.000000  0.786017   \n",
       "4741   0.364830    0.000000    0.000018    0.000000    0.000000  0.643008   \n",
       "\n",
       "           lon       DEM     Slope  Solar radiation  \n",
       "283   0.838188  0.081664  0.103313         0.868146  \n",
       "2768  0.838188  0.081664  0.103313         0.327631  \n",
       "4890  0.666667  0.161990  0.081816         0.856329  \n",
       "4741  0.750809  0.104702  0.032994         0.892347  \n",
       "\n",
       "[4 rows x 22 columns]"
      ]
     },
     "execution_count": 9,
     "metadata": {},
     "output_type": "execute_result"
    }
   ],
   "source": [
    "features.sample(4)"
   ]
  },
  {
   "cell_type": "code",
   "execution_count": 10,
   "metadata": {},
   "outputs": [],
   "source": [
    "model = tf.keras.Sequential()"
   ]
  },
  {
   "cell_type": "code",
   "execution_count": 11,
   "metadata": {},
   "outputs": [],
   "source": [
    "model.add(tf.keras.layers.InputLayer(input_shape=(features.shape[1],),name='Input_layer'))"
   ]
  },
  {
   "cell_type": "code",
   "execution_count": 12,
   "metadata": {},
   "outputs": [],
   "source": [
    "model.add(tf.keras.layers.Dense(2, name='Output_layer'))"
   ]
  },
  {
   "cell_type": "code",
   "execution_count": 13,
   "metadata": {},
   "outputs": [],
   "source": [
    "model.compile(tf.optimizers.RMSprop(0.001), loss='mse')"
   ]
  },
  {
   "cell_type": "code",
   "execution_count": 14,
   "metadata": {},
   "outputs": [],
   "source": [
    "tensorboard_callback = tf.keras.callbacks.TensorBoard(log_dir=\"./logs\")"
   ]
  },
  {
   "cell_type": "code",
   "execution_count": 15,
   "metadata": {},
   "outputs": [
    {
     "name": "stdout",
     "output_type": "stream",
     "text": [
      "Epoch 1/50\n",
      "  1/238 [..............................] - ETA: 0s - loss: 705.6977WARNING:tensorflow:From /opt/conda/lib/python3.8/site-packages/tensorflow/python/ops/summary_ops_v2.py:1277: stop (from tensorflow.python.eager.profiler) is deprecated and will be removed after 2020-07-01.\n",
      "Instructions for updating:\n",
      "use `tf.profiler.experimental.stop` instead.\n",
      "WARNING:tensorflow:Callbacks method `on_train_batch_end` is slow compared to the batch time (batch time: 0.0050s vs `on_train_batch_end` time: 0.0325s). Check your callbacks.\n",
      "238/238 [==============================] - 0s 2ms/step - loss: 669.8055\n",
      "Epoch 2/50\n",
      "238/238 [==============================] - 0s 1ms/step - loss: 565.1844\n",
      "Epoch 3/50\n",
      "238/238 [==============================] - 0s 2ms/step - loss: 470.3730\n",
      "Epoch 4/50\n",
      "238/238 [==============================] - 0s 2ms/step - loss: 385.0522\n",
      "Epoch 5/50\n",
      "238/238 [==============================] - 0s 1ms/step - loss: 309.3490\n",
      "Epoch 6/50\n",
      "238/238 [==============================] - 0s 1ms/step - loss: 243.2048\n",
      "Epoch 7/50\n",
      "238/238 [==============================] - 0s 2ms/step - loss: 186.6502\n",
      "Epoch 8/50\n",
      "238/238 [==============================] - 0s 1ms/step - loss: 139.6910\n",
      "Epoch 9/50\n",
      "238/238 [==============================] - 0s 1ms/step - loss: 102.2424\n",
      "Epoch 10/50\n",
      "238/238 [==============================] - 0s 2ms/step - loss: 73.9682\n",
      "Epoch 11/50\n",
      "238/238 [==============================] - 0s 1ms/step - loss: 53.9937\n",
      "Epoch 12/50\n",
      "238/238 [==============================] - 0s 1ms/step - loss: 39.4552\n",
      "Epoch 13/50\n",
      "238/238 [==============================] - 0s 2ms/step - loss: 29.7249\n",
      "Epoch 14/50\n",
      "238/238 [==============================] - 0s 2ms/step - loss: 24.0466\n",
      "Epoch 15/50\n",
      "238/238 [==============================] - 0s 1ms/step - loss: 20.7152\n",
      "Epoch 16/50\n",
      "238/238 [==============================] - 0s 1ms/step - loss: 18.5255\n",
      "Epoch 17/50\n",
      "238/238 [==============================] - 0s 1ms/step - loss: 16.7365\n",
      "Epoch 18/50\n",
      "238/238 [==============================] - 0s 2ms/step - loss: 15.1687\n",
      "Epoch 19/50\n",
      "238/238 [==============================] - 0s 1ms/step - loss: 13.7367\n",
      "Epoch 20/50\n",
      "238/238 [==============================] - 0s 1ms/step - loss: 12.4553\n",
      "Epoch 21/50\n",
      "238/238 [==============================] - 0s 1ms/step - loss: 11.3437\n",
      "Epoch 22/50\n",
      "238/238 [==============================] - 0s 1ms/step - loss: 10.3201\n",
      "Epoch 23/50\n",
      "238/238 [==============================] - 0s 2ms/step - loss: 9.4472\n",
      "Epoch 24/50\n",
      "238/238 [==============================] - 0s 1ms/step - loss: 8.6356\n",
      "Epoch 25/50\n",
      "238/238 [==============================] - 0s 1ms/step - loss: 7.9260\n",
      "Epoch 26/50\n",
      "238/238 [==============================] - 0s 1ms/step - loss: 7.2924\n",
      "Epoch 27/50\n",
      "238/238 [==============================] - 0s 1ms/step - loss: 6.7516\n",
      "Epoch 28/50\n",
      "238/238 [==============================] - 1s 2ms/step - loss: 6.3067\n",
      "Epoch 29/50\n",
      "238/238 [==============================] - 1s 2ms/step - loss: 5.9086\n",
      "Epoch 30/50\n",
      "238/238 [==============================] - 1s 2ms/step - loss: 5.5761\n",
      "Epoch 31/50\n",
      "238/238 [==============================] - 1s 3ms/step - loss: 5.2968\n",
      "Epoch 32/50\n",
      "238/238 [==============================] - 0s 2ms/step - loss: 5.0710\n",
      "Epoch 33/50\n",
      "238/238 [==============================] - 0s 1ms/step - loss: 4.8831\n",
      "Epoch 34/50\n",
      "238/238 [==============================] - 0s 1ms/step - loss: 4.7221\n",
      "Epoch 35/50\n",
      "238/238 [==============================] - 0s 2ms/step - loss: 4.5864\n",
      "Epoch 36/50\n",
      "238/238 [==============================] - 0s 2ms/step - loss: 4.4703\n",
      "Epoch 37/50\n",
      "238/238 [==============================] - 0s 1ms/step - loss: 4.3704\n",
      "Epoch 38/50\n",
      "238/238 [==============================] - 0s 1ms/step - loss: 4.2817\n",
      "Epoch 39/50\n",
      "238/238 [==============================] - 0s 1ms/step - loss: 4.2016\n",
      "Epoch 40/50\n",
      "238/238 [==============================] - 0s 1ms/step - loss: 4.1301\n",
      "Epoch 41/50\n",
      "238/238 [==============================] - 0s 2ms/step - loss: 4.0615\n",
      "Epoch 42/50\n",
      "238/238 [==============================] - 0s 1ms/step - loss: 3.9998\n",
      "Epoch 43/50\n",
      "238/238 [==============================] - 0s 1ms/step - loss: 3.9397\n",
      "Epoch 44/50\n",
      "238/238 [==============================] - 0s 1ms/step - loss: 3.8827\n",
      "Epoch 45/50\n",
      "238/238 [==============================] - 0s 1ms/step - loss: 3.8282\n",
      "Epoch 46/50\n",
      "238/238 [==============================] - 0s 1ms/step - loss: 3.7765\n",
      "Epoch 47/50\n",
      "238/238 [==============================] - 0s 1ms/step - loss: 3.7257\n",
      "Epoch 48/50\n",
      "238/238 [==============================] - 0s 1ms/step - loss: 3.6774\n",
      "Epoch 49/50\n",
      "238/238 [==============================] - 0s 1ms/step - loss: 3.6321\n",
      "Epoch 50/50\n",
      "238/238 [==============================] - 0s 1ms/step - loss: 3.5871\n"
     ]
    },
    {
     "data": {
      "text/plain": [
       "<tensorflow.python.keras.callbacks.History at 0x7f24846e0370>"
      ]
     },
     "execution_count": 15,
     "metadata": {},
     "output_type": "execute_result"
    }
   ],
   "source": [
    "model.fit(x=features.to_numpy(), y=target.to_numpy(),epochs=50, callbacks=[tensorboard_callback])"
   ]
  },
  {
   "cell_type": "code",
   "execution_count": 16,
   "metadata": {},
   "outputs": [
    {
     "name": "stdout",
     "output_type": "stream",
     "text": [
      "238/238 [==============================] - 0s 997us/step - loss: 3.5634\n",
      "loss: 3.563430070877075\n"
     ]
    }
   ],
   "source": [
    "loss = model.evaluate(features.to_numpy(), target.to_numpy())\n",
    "print('loss:', loss)"
   ]
  },
  {
   "cell_type": "code",
   "execution_count": 17,
   "metadata": {},
   "outputs": [
    {
     "ename": "SyntaxError",
     "evalue": "invalid character in identifier (<ipython-input-17-bca727cf9d7e>, line 1)",
     "output_type": "error",
     "traceback": [
      "\u001b[0;36m  File \u001b[0;32m\"<ipython-input-17-bca727cf9d7e>\"\u001b[0;36m, line \u001b[0;32m1\u001b[0m\n\u001b[0;31m    tensorboard –-logdir=logs/\u001b[0m\n\u001b[0m                ^\u001b[0m\n\u001b[0;31mSyntaxError\u001b[0m\u001b[0;31m:\u001b[0m invalid character in identifier\n"
     ]
    }
   ],
   "source": [
    "tensorboard –-logdir=logs/"
   ]
  },
  {
   "cell_type": "code",
   "execution_count": null,
   "metadata": {},
   "outputs": [],
   "source": []
  }
 ],
 "metadata": {
  "kernelspec": {
   "display_name": "Python 3",
   "language": "python",
   "name": "python3"
  },
  "language_info": {
   "codemirror_mode": {
    "name": "ipython",
    "version": 3
   },
   "file_extension": ".py",
   "mimetype": "text/x-python",
   "name": "python",
   "nbconvert_exporter": "python",
   "pygments_lexer": "ipython3",
   "version": "3.8.6"
  }
 },
 "nbformat": 4,
 "nbformat_minor": 4
}
